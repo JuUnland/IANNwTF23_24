{
  "cells": [
    {
      "cell_type": "code",
      "execution_count": 1,
      "metadata": {
        "colab": {
          "base_uri": "https://localhost:8080/",
          "height": 84,
          "referenced_widgets": [
            "aaee99c45ce04830b1f80771ac07e018",
            "d9199a33c3e848c4959aa1369eb95532",
            "0bdabd307b4a46a99ea207a356fbf98b",
            "47d60d3f8cc647b2a45457281eee179b",
            "c7329898f313425daa27e224e26c2dc8",
            "e7b37d974766464994a6dda7255e7f20",
            "184bf42dde094f83a6d31accce06d253",
            "9e73afde01d540589d78165a2eec504f",
            "c65eff4e5d67404197e6c1a60cf9a86e",
            "4f1ad3f58e244a6aa72ae88577186e9e",
            "043cc240f1e74f289f1c444e83c72665"
          ]
        },
        "id": "PVf8jEixxnwz",
        "outputId": "7838a5e9-bf20-4e3e-a483-b41e30eacfa2"
      },
      "outputs": [
        {
          "name": "stdout",
          "output_type": "stream",
          "text": [
            "[name: \"/device:CPU:0\"\n",
            "device_type: \"CPU\"\n",
            "memory_limit: 268435456\n",
            "locality {\n",
            "}\n",
            "incarnation: 7662868370469732714\n",
            "xla_global_id: -1\n",
            "]\n"
          ]
        }
      ],
      "source": [
        "import tensorflow_datasets as tfds\n",
        "import tensorflow as tf\n",
        "import numpy as np\n",
        "import pprint\n",
        "import tqdm\n",
        "import math\n",
        "import datetime\n",
        "from tensorflow.python.client import device_lib \n",
        "from matplotlib import pyplot as plt\n",
        "\n",
        "print(device_lib.list_local_devices())\n",
        "\n",
        "\n",
        "( train_ds , test_ds ) , ds_info = tfds . load (\"mnist\", split =[\"train\", \"test\"], as_supervised = True , with_info = True )\n"
      ]
    },
    {
      "cell_type": "code",
      "execution_count": 2,
      "metadata": {
        "colab": {
          "base_uri": "https://localhost:8080/"
        },
        "id": "88T-z6g5x1rW",
        "outputId": "ceb18fb3-09e6-4b57-854d-0fc90b29e44b"
      },
      "outputs": [
        {
          "name": "stdout",
          "output_type": "stream",
          "text": [
            "length of train dataset:  60000 length of test dataset:  10000\n"
          ]
        },
        {
          "data": {
            "text/plain": [
              "'best_max_value = 0\\nfor elem in train_ds:\\n  max_val = np.max(elem[0].numpy())\\n  if max_val > best_max_value:\\n    best_max_value = max_val\\n\\nprint(\"highest value of pixel: \", best_max_value)'"
            ]
          },
          "execution_count": 2,
          "metadata": {},
          "output_type": "execute_result"
        }
      ],
      "source": [
        "\n",
        "#tfds.show_examples(train_ds, ds_info)\n",
        "\n",
        "# • How many training/test images are there?\n",
        "\n",
        "print(\"length of train dataset: \", len(train_ds), \"length of test dataset: \",  len(test_ds))\n",
        "\n",
        "# • What’s the image shape?\n",
        "\n",
        "# ds_info tells us: 'image': Image(shape=(28, 28, 1), dtype=uint8),\n",
        "\n",
        "# • What range are pixel values in?\n",
        "\n",
        "# not that efficient, but gives the correct answer of 255\n",
        "\"\"\"best_max_value = 0\n",
        "for elem in train_ds:\n",
        "  max_val = np.max(elem[0].numpy())\n",
        "  if max_val > best_max_value:\n",
        "    best_max_value = max_val\n",
        "\n",
        "print(\"highest value of pixel: \", best_max_value)\"\"\""
      ]
    },
    {
      "cell_type": "code",
      "execution_count": 3,
      "metadata": {
        "id": "GdKlfEVc5m75"
      },
      "outputs": [],
      "source": [
        "#ds_info"
      ]
    },
    {
      "cell_type": "code",
      "execution_count": 4,
      "metadata": {
        "colab": {
          "base_uri": "https://localhost:8080/",
          "height": 460
        },
        "id": "ni12hPwTx3Wo",
        "outputId": "5e89fcc2-04d2-4884-f03f-913e394bcbba"
      },
      "outputs": [],
      "source": [
        "def preprocess_data(dataset):\n",
        "  # 1. change datatype from uint8 into float values\n",
        "  dataset = dataset.map(lambda img, target: (tf.cast(img, tf.float32), target))\n",
        "\n",
        "  # 2. flatten the image\n",
        "  dataset = dataset.map(lambda img, target: (tf.reshape(img, (-1, )), target))\n",
        "\n",
        "  # 3. normalize from 0 - 255 into -1 - 1\n",
        "  dataset = dataset.map(lambda img, target: (img/128.0 - 1, target))\n",
        "\n",
        "  # 4. one-hot encode the targets\n",
        "  dataset = dataset.map(lambda img, target: (img, tf.one_hot(target, depth=10)))\n",
        "\n",
        "  dataset = dataset.cache()\n",
        "  dataset = dataset.shuffle(1000)\n",
        "  dataset = dataset.batch(32)\n",
        "  dataset = dataset.prefetch(28)\n",
        "  return dataset\n",
        "\n",
        "train_ds = train_ds.apply(preprocess_data)\n",
        "test_ds = test_ds.apply(preprocess_data)"
      ]
    },
    {
      "cell_type": "code",
      "execution_count": 5,
      "metadata": {
        "id": "rTO880bk-E3s"
      },
      "outputs": [],
      "source": [
        "class MNIST_predictor(tf.keras.Model):\n",
        "    \n",
        "    def __init__(self):\n",
        "        super(MNIST_predictor, self).__init__()\n",
        "        self.layer_list = [\n",
        "                              tf.keras.layers.Dense(256, activation=tf.nn.relu),\n",
        "                              tf.keras.layers.Dense(256, activation=tf.nn.relu),\n",
        "                              tf.keras.layers.Dense(10, activation=tf.nn.softmax)\n",
        "                          ]\n",
        "\n",
        "    #@tf.function\n",
        "    def call(self, x):\n",
        "        for layer in self.layer_list:\n",
        "          x = layer(x)\n",
        "        return x"
      ]
    },
    {
      "cell_type": "code",
      "execution_count": 6,
      "metadata": {
        "id": "wD1brsenl43e"
      },
      "outputs": [],
      "source": [
        "# • The number of epochs\n",
        "EPOCHS = 10\n",
        "\n",
        "# • The training dataset\n",
        "# train_ds\n",
        "\n",
        "# • The test dataset\n",
        "# test_ds\n",
        "\n",
        "# • The loss function\n",
        "loss_fct = tf.keras.losses.CategoricalCrossentropy()\n",
        "\n",
        "# • The optimizer\n",
        "opt = tf.keras.optimizers.SGD(learning_rate=0.1)\n",
        "\n",
        "# • The model object\n",
        "model = MNIST_predictor()\n",
        "\n",
        "\n",
        "# • Different arrays for the different values you want to track for visualization"
      ]
    },
    {
      "cell_type": "code",
      "execution_count": 7,
      "metadata": {
        "id": "pK0WpJ68oJSS"
      },
      "outputs": [],
      "source": [
        "#@tf.function\n",
        "def test_step(x, y, model, loss_function):\n",
        "    predictions = model(x, training=False)\n",
        "    loss = loss_function(y, predictions) # why?  + tf.reduce_sum(self.losses)\n",
        "    correct = np.argmax(predictions, axis=1) == np.argmax(y, axis=1)\n",
        "    return loss, np.mean(correct)\n",
        "\n",
        "\n",
        "#@tf.function\n",
        "def train_step(x, y, model, loss_function, optimizer):\n",
        "  with tf.GradientTape() as tape:\n",
        "      predictions = model(x)\n",
        "      loss = loss_function(y, predictions)\n",
        "\n",
        "  gradients = tape.gradient(loss, model.trainable_variables)\n",
        "  optimizer.apply_gradients(zip(gradients, model.trainable_variables))\n",
        "  return loss\n",
        "\n",
        "\n",
        "\n",
        "def train_loop(epochs,\n",
        "               train_ds,\n",
        "               test_ds,\n",
        "               loss_function,\n",
        "               optimizer,\n",
        "               model):\n",
        "\n",
        "    train_losses = []\n",
        "    test_losses = []\n",
        "    accuracys = []\n",
        "\n",
        "    for epoch in range(epochs):\n",
        "      count = 0\n",
        "      print(\"epoch: \", epoch)\n",
        "      train_loss = []\n",
        "      test_loss = []\n",
        "      acc = []\n",
        "      \n",
        "      # training\n",
        "      for x, y in train_ds.take(1000):\n",
        "        count += 1\n",
        "\n",
        "        loss = train_step(x, y, model, loss_function, optimizer)\n",
        "        train_loss.append(loss)\n",
        "\n",
        "        if count % 10000 == 0:\n",
        "           print(count)\n",
        "\n",
        "      train_losses.append(tf.reduce_mean(train_loss).numpy())\n",
        "      print(\"training loss: \", train_losses)\n",
        "\n",
        "      # testing\n",
        "      for x, y in test_ds.take(200):\n",
        "        loss, correct = test_step(x, y, model, loss_function)\n",
        "        test_loss.append(loss)\n",
        "        acc.append(correct)\n",
        "\n",
        "      accuracys.append(tf.reduce_mean(acc).numpy())\n",
        "      test_losses.append(tf.reduce_mean(test_loss).numpy())\n",
        "      print(\"test loss: \", test_losses, \"\\ntest_acc: \", accuracys, \"\\n\")\n",
        "\n",
        "    "
      ]
    },
    {
      "cell_type": "code",
      "execution_count": 8,
      "metadata": {
        "colab": {
          "base_uri": "https://localhost:8080/"
        },
        "id": "6SwW9SUtodDa",
        "outputId": "8197ec17-268b-4357-a2e8-7577b3d30c11"
      },
      "outputs": [
        {
          "name": "stdout",
          "output_type": "stream",
          "text": [
            "epoch:  0\n"
          ]
        },
        {
          "ename": "KeyboardInterrupt",
          "evalue": "",
          "output_type": "error",
          "traceback": [
            "\u001b[1;31m---------------------------------------------------------------------------\u001b[0m",
            "\u001b[1;31mKeyboardInterrupt\u001b[0m                         Traceback (most recent call last)",
            "\u001b[1;32mc:\\Users\\Julian Unland\\Desktop\\Studium\\Master\\4. Semester\\Tensorflow\\repo\\assignment2.ipynb Cell 8\u001b[0m line \u001b[0;36m<module>\u001b[1;34m\u001b[0m\n\u001b[1;32m----> <a href='vscode-notebook-cell:/c%3A/Users/Julian%20Unland/Desktop/Studium/Master/4.%20Semester/Tensorflow/repo/assignment2.ipynb#X10sZmlsZQ%3D%3D?line=0'>1</a>\u001b[0m train_loop(EPOCHS, train_ds, test_ds, loss_fct, opt, model)\n",
            "\u001b[1;32mc:\\Users\\Julian Unland\\Desktop\\Studium\\Master\\4. Semester\\Tensorflow\\repo\\assignment2.ipynb Cell 8\u001b[0m line \u001b[0;36mtrain_loop\u001b[1;34m(epochs, train_ds, test_ds, loss_function, optimizer, model)\u001b[0m\n\u001b[0;32m     <a href='vscode-notebook-cell:/c%3A/Users/Julian%20Unland/Desktop/Studium/Master/4.%20Semester/Tensorflow/repo/assignment2.ipynb#X10sZmlsZQ%3D%3D?line=39'>40</a>\u001b[0m \u001b[39mfor\u001b[39;00m x, y \u001b[39min\u001b[39;00m train_ds\u001b[39m.\u001b[39mtake(\u001b[39m1000\u001b[39m):\n\u001b[0;32m     <a href='vscode-notebook-cell:/c%3A/Users/Julian%20Unland/Desktop/Studium/Master/4.%20Semester/Tensorflow/repo/assignment2.ipynb#X10sZmlsZQ%3D%3D?line=40'>41</a>\u001b[0m   count \u001b[39m+\u001b[39m\u001b[39m=\u001b[39m \u001b[39m1\u001b[39m\n\u001b[1;32m---> <a href='vscode-notebook-cell:/c%3A/Users/Julian%20Unland/Desktop/Studium/Master/4.%20Semester/Tensorflow/repo/assignment2.ipynb#X10sZmlsZQ%3D%3D?line=42'>43</a>\u001b[0m   loss \u001b[39m=\u001b[39m train_step(x, y, model, loss_function, optimizer)\n\u001b[0;32m     <a href='vscode-notebook-cell:/c%3A/Users/Julian%20Unland/Desktop/Studium/Master/4.%20Semester/Tensorflow/repo/assignment2.ipynb#X10sZmlsZQ%3D%3D?line=43'>44</a>\u001b[0m   train_loss\u001b[39m.\u001b[39mappend(loss)\n\u001b[0;32m     <a href='vscode-notebook-cell:/c%3A/Users/Julian%20Unland/Desktop/Studium/Master/4.%20Semester/Tensorflow/repo/assignment2.ipynb#X10sZmlsZQ%3D%3D?line=45'>46</a>\u001b[0m   \u001b[39mif\u001b[39;00m count \u001b[39m%\u001b[39m \u001b[39m10000\u001b[39m \u001b[39m==\u001b[39m \u001b[39m0\u001b[39m:\n",
            "\u001b[1;32mc:\\Users\\Julian Unland\\Desktop\\Studium\\Master\\4. Semester\\Tensorflow\\repo\\assignment2.ipynb Cell 8\u001b[0m line \u001b[0;36mtrain_step\u001b[1;34m(x, y, model, loss_function, optimizer)\u001b[0m\n\u001b[0;32m     <a href='vscode-notebook-cell:/c%3A/Users/Julian%20Unland/Desktop/Studium/Master/4.%20Semester/Tensorflow/repo/assignment2.ipynb#X10sZmlsZQ%3D%3D?line=12'>13</a>\u001b[0m     loss \u001b[39m=\u001b[39m loss_function(y, predictions)\n\u001b[0;32m     <a href='vscode-notebook-cell:/c%3A/Users/Julian%20Unland/Desktop/Studium/Master/4.%20Semester/Tensorflow/repo/assignment2.ipynb#X10sZmlsZQ%3D%3D?line=14'>15</a>\u001b[0m gradients \u001b[39m=\u001b[39m tape\u001b[39m.\u001b[39mgradient(loss, model\u001b[39m.\u001b[39mtrainable_variables)\n\u001b[1;32m---> <a href='vscode-notebook-cell:/c%3A/Users/Julian%20Unland/Desktop/Studium/Master/4.%20Semester/Tensorflow/repo/assignment2.ipynb#X10sZmlsZQ%3D%3D?line=15'>16</a>\u001b[0m optimizer\u001b[39m.\u001b[39;49mapply_gradients(\u001b[39mzip\u001b[39;49m(gradients, model\u001b[39m.\u001b[39;49mtrainable_variables))\n\u001b[0;32m     <a href='vscode-notebook-cell:/c%3A/Users/Julian%20Unland/Desktop/Studium/Master/4.%20Semester/Tensorflow/repo/assignment2.ipynb#X10sZmlsZQ%3D%3D?line=16'>17</a>\u001b[0m \u001b[39mreturn\u001b[39;00m loss\n",
            "File \u001b[1;32mc:\\Users\\Julian Unland\\anaconda3\\envs\\ki_klausur\\lib\\site-packages\\keras\\src\\optimizers\\optimizer.py:1230\u001b[0m, in \u001b[0;36mOptimizer.apply_gradients\u001b[1;34m(self, grads_and_vars, name, skip_gradients_aggregation, **kwargs)\u001b[0m\n\u001b[0;32m   1228\u001b[0m \u001b[39mif\u001b[39;00m \u001b[39mnot\u001b[39;00m skip_gradients_aggregation \u001b[39mand\u001b[39;00m experimental_aggregate_gradients:\n\u001b[0;32m   1229\u001b[0m     grads_and_vars \u001b[39m=\u001b[39m \u001b[39mself\u001b[39m\u001b[39m.\u001b[39maggregate_gradients(grads_and_vars)\n\u001b[1;32m-> 1230\u001b[0m \u001b[39mreturn\u001b[39;00m \u001b[39msuper\u001b[39;49m()\u001b[39m.\u001b[39;49mapply_gradients(grads_and_vars, name\u001b[39m=\u001b[39;49mname)\n",
            "File \u001b[1;32mc:\\Users\\Julian Unland\\anaconda3\\envs\\ki_klausur\\lib\\site-packages\\keras\\src\\optimizers\\optimizer.py:652\u001b[0m, in \u001b[0;36m_BaseOptimizer.apply_gradients\u001b[1;34m(self, grads_and_vars, name)\u001b[0m\n\u001b[0;32m    650\u001b[0m \u001b[39mself\u001b[39m\u001b[39m.\u001b[39m_apply_weight_decay(trainable_variables)\n\u001b[0;32m    651\u001b[0m grads_and_vars \u001b[39m=\u001b[39m \u001b[39mlist\u001b[39m(\u001b[39mzip\u001b[39m(grads, trainable_variables))\n\u001b[1;32m--> 652\u001b[0m iteration \u001b[39m=\u001b[39m \u001b[39mself\u001b[39;49m\u001b[39m.\u001b[39;49m_internal_apply_gradients(grads_and_vars)\n\u001b[0;32m    654\u001b[0m \u001b[39m# Apply variable constraints after applying gradients.\u001b[39;00m\n\u001b[0;32m    655\u001b[0m \u001b[39mfor\u001b[39;00m variable \u001b[39min\u001b[39;00m trainable_variables:\n",
            "File \u001b[1;32mc:\\Users\\Julian Unland\\anaconda3\\envs\\ki_klausur\\lib\\site-packages\\keras\\src\\optimizers\\optimizer.py:1260\u001b[0m, in \u001b[0;36mOptimizer._internal_apply_gradients\u001b[1;34m(self, grads_and_vars)\u001b[0m\n\u001b[0;32m   1256\u001b[0m \u001b[39mif\u001b[39;00m \u001b[39mself\u001b[39m\u001b[39m.\u001b[39m_mesh \u001b[39mor\u001b[39;00m \u001b[39mself\u001b[39m\u001b[39m.\u001b[39m_run_with_dtensor:\n\u001b[0;32m   1257\u001b[0m     \u001b[39m# Skip any usage of strategy logic for DTensor\u001b[39;00m\n\u001b[0;32m   1258\u001b[0m     \u001b[39mreturn\u001b[39;00m \u001b[39msuper\u001b[39m()\u001b[39m.\u001b[39m_internal_apply_gradients(grads_and_vars)\n\u001b[1;32m-> 1260\u001b[0m \u001b[39mreturn\u001b[39;00m tf\u001b[39m.\u001b[39;49m__internal__\u001b[39m.\u001b[39;49mdistribute\u001b[39m.\u001b[39;49minterim\u001b[39m.\u001b[39;49mmaybe_merge_call(\n\u001b[0;32m   1261\u001b[0m     \u001b[39mself\u001b[39;49m\u001b[39m.\u001b[39;49m_distributed_apply_gradients_fn,\n\u001b[0;32m   1262\u001b[0m     \u001b[39mself\u001b[39;49m\u001b[39m.\u001b[39;49m_distribution_strategy,\n\u001b[0;32m   1263\u001b[0m     grads_and_vars,\n\u001b[0;32m   1264\u001b[0m )\n",
            "File \u001b[1;32mc:\\Users\\Julian Unland\\anaconda3\\envs\\ki_klausur\\lib\\site-packages\\tensorflow\\python\\distribute\\merge_call_interim.py:51\u001b[0m, in \u001b[0;36mmaybe_merge_call\u001b[1;34m(fn, strategy, *args, **kwargs)\u001b[0m\n\u001b[0;32m     31\u001b[0m \u001b[39m\"\"\"Maybe invoke `fn` via `merge_call` which may or may not be fulfilled.\u001b[39;00m\n\u001b[0;32m     32\u001b[0m \n\u001b[0;32m     33\u001b[0m \u001b[39mThe caller of this utility function requests to invoke `fn` via `merge_call`\u001b[39;00m\n\u001b[1;32m   (...)\u001b[0m\n\u001b[0;32m     48\u001b[0m \u001b[39m  The return value of the `fn` call.\u001b[39;00m\n\u001b[0;32m     49\u001b[0m \u001b[39m\"\"\"\u001b[39;00m\n\u001b[0;32m     50\u001b[0m \u001b[39mif\u001b[39;00m strategy_supports_no_merge_call():\n\u001b[1;32m---> 51\u001b[0m   \u001b[39mreturn\u001b[39;00m fn(strategy, \u001b[39m*\u001b[39;49margs, \u001b[39m*\u001b[39;49m\u001b[39m*\u001b[39;49mkwargs)\n\u001b[0;32m     52\u001b[0m \u001b[39melse\u001b[39;00m:\n\u001b[0;32m     53\u001b[0m   \u001b[39mreturn\u001b[39;00m distribute_lib\u001b[39m.\u001b[39mget_replica_context()\u001b[39m.\u001b[39mmerge_call(\n\u001b[0;32m     54\u001b[0m       fn, args\u001b[39m=\u001b[39margs, kwargs\u001b[39m=\u001b[39mkwargs)\n",
            "File \u001b[1;32mc:\\Users\\Julian Unland\\anaconda3\\envs\\ki_klausur\\lib\\site-packages\\keras\\src\\optimizers\\optimizer.py:1372\u001b[0m, in \u001b[0;36mOptimizer._distributed_apply_gradients_fn\u001b[1;34m(self, distribution, grads_and_vars, **kwargs)\u001b[0m\n\u001b[0;32m   1362\u001b[0m         should_overwrite_model_vars \u001b[39m=\u001b[39m (\n\u001b[0;32m   1363\u001b[0m             \u001b[39mself\u001b[39m\u001b[39m.\u001b[39miterations \u001b[39m+\u001b[39m \u001b[39m1\u001b[39m\n\u001b[0;32m   1364\u001b[0m         ) \u001b[39m%\u001b[39m \u001b[39mself\u001b[39m\u001b[39m.\u001b[39mema_overwrite_frequency \u001b[39m==\u001b[39m \u001b[39m0\u001b[39m\n\u001b[0;32m   1365\u001b[0m         tf\u001b[39m.\u001b[39mcond(\n\u001b[0;32m   1366\u001b[0m             tf\u001b[39m.\u001b[39mcast(should_overwrite_model_vars, tf\u001b[39m.\u001b[39mbool),\n\u001b[0;32m   1367\u001b[0m             true_fn\u001b[39m=\u001b[39m\u001b[39mlambda\u001b[39;00m: \u001b[39mself\u001b[39m\u001b[39m.\u001b[39m_overwrite_model_variables_with_average_value(  \u001b[39m# noqa: E501\u001b[39;00m\n\u001b[1;32m   (...)\u001b[0m\n\u001b[0;32m   1370\u001b[0m             false_fn\u001b[39m=\u001b[39m\u001b[39mlambda\u001b[39;00m: \u001b[39mNone\u001b[39;00m,\n\u001b[0;32m   1371\u001b[0m         )\n\u001b[1;32m-> 1372\u001b[0m \u001b[39mreturn\u001b[39;00m \u001b[39mself\u001b[39;49m\u001b[39m.\u001b[39;49miterations\u001b[39m.\u001b[39;49massign_add(\u001b[39m1\u001b[39;49m)\n",
            "File \u001b[1;32mc:\\Users\\Julian Unland\\anaconda3\\envs\\ki_klausur\\lib\\site-packages\\tensorflow\\python\\ops\\resource_variable_ops.py:979\u001b[0m, in \u001b[0;36mBaseResourceVariable.assign_add\u001b[1;34m(self, delta, use_locking, name, read_value)\u001b[0m\n\u001b[0;32m    963\u001b[0m \u001b[39m\"\"\"Adds a value to this variable.\u001b[39;00m\n\u001b[0;32m    964\u001b[0m \n\u001b[0;32m    965\u001b[0m \u001b[39mArgs:\u001b[39;00m\n\u001b[1;32m   (...)\u001b[0m\n\u001b[0;32m    976\u001b[0m \u001b[39m  mode it will return `None`.\u001b[39;00m\n\u001b[0;32m    977\u001b[0m \u001b[39m\"\"\"\u001b[39;00m\n\u001b[0;32m    978\u001b[0m \u001b[39mwith\u001b[39;00m _handle_graph(\u001b[39mself\u001b[39m\u001b[39m.\u001b[39mhandle), \u001b[39mself\u001b[39m\u001b[39m.\u001b[39m_assign_dependencies():\n\u001b[1;32m--> 979\u001b[0m   assign_add_op \u001b[39m=\u001b[39m gen_resource_variable_ops\u001b[39m.\u001b[39;49massign_add_variable_op(\n\u001b[0;32m    980\u001b[0m       \u001b[39mself\u001b[39;49m\u001b[39m.\u001b[39;49mhandle,\n\u001b[0;32m    981\u001b[0m       ops\u001b[39m.\u001b[39;49mconvert_to_tensor(delta, dtype\u001b[39m=\u001b[39;49m\u001b[39mself\u001b[39;49m\u001b[39m.\u001b[39;49mdtype),\n\u001b[0;32m    982\u001b[0m       name\u001b[39m=\u001b[39;49mname)\n\u001b[0;32m    983\u001b[0m \u001b[39mif\u001b[39;00m read_value:\n\u001b[0;32m    984\u001b[0m   \u001b[39mreturn\u001b[39;00m \u001b[39mself\u001b[39m\u001b[39m.\u001b[39m_lazy_read(assign_add_op)\n",
            "File \u001b[1;32mc:\\Users\\Julian Unland\\anaconda3\\envs\\ki_klausur\\lib\\site-packages\\tensorflow\\python\\ops\\gen_resource_variable_ops.py:44\u001b[0m, in \u001b[0;36massign_add_variable_op\u001b[1;34m(resource, value, name)\u001b[0m\n\u001b[0;32m     42\u001b[0m \u001b[39mif\u001b[39;00m tld\u001b[39m.\u001b[39mis_eager:\n\u001b[0;32m     43\u001b[0m   \u001b[39mtry\u001b[39;00m:\n\u001b[1;32m---> 44\u001b[0m     _result \u001b[39m=\u001b[39m pywrap_tfe\u001b[39m.\u001b[39;49mTFE_Py_FastPathExecute(\n\u001b[0;32m     45\u001b[0m       _ctx, \u001b[39m\"\u001b[39;49m\u001b[39mAssignAddVariableOp\u001b[39;49m\u001b[39m\"\u001b[39;49m, name, resource, value)\n\u001b[0;32m     46\u001b[0m     \u001b[39mreturn\u001b[39;00m _result\n\u001b[0;32m     47\u001b[0m   \u001b[39mexcept\u001b[39;00m _core\u001b[39m.\u001b[39m_NotOkStatusException \u001b[39mas\u001b[39;00m e:\n",
            "\u001b[1;31mKeyboardInterrupt\u001b[0m: "
          ]
        }
      ],
      "source": [
        "train_loop(EPOCHS, train_ds, test_ds, loss_fct, opt, model)"
      ]
    },
    {
      "cell_type": "code",
      "execution_count": null,
      "metadata": {
        "id": "OJ27av0IojGd"
      },
      "outputs": [],
      "source": [
        "def visualization (train_losses , train_accuracies , test_losses ,test_accuracies):\n",
        "    plt.figure ()\n",
        "    line1 , = plt.plot(train_losses , \"b-\")\n",
        "    line2 , = plt.plot(test_losses , \"r-\")\n",
        "    line3 , = plt.plot(train_accuracies , \"b:\")\n",
        "    line4 , = plt.plot(test_accuracies , \"r:\")\n",
        "    plt . xlabel (\" Training steps \")\n",
        "    plt . ylabel (\" Loss / Accuracy \")\n",
        "    plt . legend (( line1 , line2 , line3 , line4 ) , (\" training loss \", \" testloss \", \" train accuracy \", \" test accuracy \"))\n",
        "    plt.show ()\n",
        "\n",
        "visualization()"
      ]
    },
    {
      "cell_type": "code",
      "execution_count": null,
      "metadata": {},
      "outputs": [],
      "source": []
    },
    {
      "cell_type": "code",
      "execution_count": null,
      "metadata": {},
      "outputs": [],
      "source": []
    },
    {
      "cell_type": "code",
      "execution_count": null,
      "metadata": {},
      "outputs": [],
      "source": []
    },
    {
      "cell_type": "code",
      "execution_count": null,
      "metadata": {},
      "outputs": [],
      "source": []
    },
    {
      "cell_type": "code",
      "execution_count": null,
      "metadata": {},
      "outputs": [],
      "source": []
    },
    {
      "cell_type": "code",
      "execution_count": null,
      "metadata": {},
      "outputs": [],
      "source": []
    },
    {
      "cell_type": "code",
      "execution_count": null,
      "metadata": {},
      "outputs": [],
      "source": []
    },
    {
      "cell_type": "code",
      "execution_count": null,
      "metadata": {},
      "outputs": [],
      "source": []
    },
    {
      "cell_type": "code",
      "execution_count": null,
      "metadata": {},
      "outputs": [],
      "source": []
    },
    {
      "cell_type": "code",
      "execution_count": null,
      "metadata": {},
      "outputs": [],
      "source": []
    }
  ],
  "metadata": {
    "colab": {
      "provenance": []
    },
    "kernelspec": {
      "display_name": "Python 3",
      "name": "python3"
    },
    "language_info": {
      "codemirror_mode": {
        "name": "ipython",
        "version": 3
      },
      "file_extension": ".py",
      "mimetype": "text/x-python",
      "name": "python",
      "nbconvert_exporter": "python",
      "pygments_lexer": "ipython3",
      "version": "3.8.12"
    },
    "widgets": {
      "application/vnd.jupyter.widget-state+json": {
        "043cc240f1e74f289f1c444e83c72665": {
          "model_module": "@jupyter-widgets/controls",
          "model_module_version": "1.5.0",
          "model_name": "DescriptionStyleModel",
          "state": {
            "_model_module": "@jupyter-widgets/controls",
            "_model_module_version": "1.5.0",
            "_model_name": "DescriptionStyleModel",
            "_view_count": null,
            "_view_module": "@jupyter-widgets/base",
            "_view_module_version": "1.2.0",
            "_view_name": "StyleView",
            "description_width": ""
          }
        },
        "0bdabd307b4a46a99ea207a356fbf98b": {
          "model_module": "@jupyter-widgets/controls",
          "model_module_version": "1.5.0",
          "model_name": "FloatProgressModel",
          "state": {
            "_dom_classes": [],
            "_model_module": "@jupyter-widgets/controls",
            "_model_module_version": "1.5.0",
            "_model_name": "FloatProgressModel",
            "_view_count": null,
            "_view_module": "@jupyter-widgets/controls",
            "_view_module_version": "1.5.0",
            "_view_name": "ProgressView",
            "bar_style": "success",
            "description": "",
            "description_tooltip": null,
            "layout": "IPY_MODEL_9e73afde01d540589d78165a2eec504f",
            "max": 5,
            "min": 0,
            "orientation": "horizontal",
            "style": "IPY_MODEL_c65eff4e5d67404197e6c1a60cf9a86e",
            "value": 5
          }
        },
        "184bf42dde094f83a6d31accce06d253": {
          "model_module": "@jupyter-widgets/controls",
          "model_module_version": "1.5.0",
          "model_name": "DescriptionStyleModel",
          "state": {
            "_model_module": "@jupyter-widgets/controls",
            "_model_module_version": "1.5.0",
            "_model_name": "DescriptionStyleModel",
            "_view_count": null,
            "_view_module": "@jupyter-widgets/base",
            "_view_module_version": "1.2.0",
            "_view_name": "StyleView",
            "description_width": ""
          }
        },
        "47d60d3f8cc647b2a45457281eee179b": {
          "model_module": "@jupyter-widgets/controls",
          "model_module_version": "1.5.0",
          "model_name": "HTMLModel",
          "state": {
            "_dom_classes": [],
            "_model_module": "@jupyter-widgets/controls",
            "_model_module_version": "1.5.0",
            "_model_name": "HTMLModel",
            "_view_count": null,
            "_view_module": "@jupyter-widgets/controls",
            "_view_module_version": "1.5.0",
            "_view_name": "HTMLView",
            "description": "",
            "description_tooltip": null,
            "layout": "IPY_MODEL_4f1ad3f58e244a6aa72ae88577186e9e",
            "placeholder": "​",
            "style": "IPY_MODEL_043cc240f1e74f289f1c444e83c72665",
            "value": " 5/5 [00:01&lt;00:00,  5.07 file/s]"
          }
        },
        "4f1ad3f58e244a6aa72ae88577186e9e": {
          "model_module": "@jupyter-widgets/base",
          "model_module_version": "1.2.0",
          "model_name": "LayoutModel",
          "state": {
            "_model_module": "@jupyter-widgets/base",
            "_model_module_version": "1.2.0",
            "_model_name": "LayoutModel",
            "_view_count": null,
            "_view_module": "@jupyter-widgets/base",
            "_view_module_version": "1.2.0",
            "_view_name": "LayoutView",
            "align_content": null,
            "align_items": null,
            "align_self": null,
            "border": null,
            "bottom": null,
            "display": null,
            "flex": null,
            "flex_flow": null,
            "grid_area": null,
            "grid_auto_columns": null,
            "grid_auto_flow": null,
            "grid_auto_rows": null,
            "grid_column": null,
            "grid_gap": null,
            "grid_row": null,
            "grid_template_areas": null,
            "grid_template_columns": null,
            "grid_template_rows": null,
            "height": null,
            "justify_content": null,
            "justify_items": null,
            "left": null,
            "margin": null,
            "max_height": null,
            "max_width": null,
            "min_height": null,
            "min_width": null,
            "object_fit": null,
            "object_position": null,
            "order": null,
            "overflow": null,
            "overflow_x": null,
            "overflow_y": null,
            "padding": null,
            "right": null,
            "top": null,
            "visibility": null,
            "width": null
          }
        },
        "9e73afde01d540589d78165a2eec504f": {
          "model_module": "@jupyter-widgets/base",
          "model_module_version": "1.2.0",
          "model_name": "LayoutModel",
          "state": {
            "_model_module": "@jupyter-widgets/base",
            "_model_module_version": "1.2.0",
            "_model_name": "LayoutModel",
            "_view_count": null,
            "_view_module": "@jupyter-widgets/base",
            "_view_module_version": "1.2.0",
            "_view_name": "LayoutView",
            "align_content": null,
            "align_items": null,
            "align_self": null,
            "border": null,
            "bottom": null,
            "display": null,
            "flex": null,
            "flex_flow": null,
            "grid_area": null,
            "grid_auto_columns": null,
            "grid_auto_flow": null,
            "grid_auto_rows": null,
            "grid_column": null,
            "grid_gap": null,
            "grid_row": null,
            "grid_template_areas": null,
            "grid_template_columns": null,
            "grid_template_rows": null,
            "height": null,
            "justify_content": null,
            "justify_items": null,
            "left": null,
            "margin": null,
            "max_height": null,
            "max_width": null,
            "min_height": null,
            "min_width": null,
            "object_fit": null,
            "object_position": null,
            "order": null,
            "overflow": null,
            "overflow_x": null,
            "overflow_y": null,
            "padding": null,
            "right": null,
            "top": null,
            "visibility": null,
            "width": null
          }
        },
        "aaee99c45ce04830b1f80771ac07e018": {
          "model_module": "@jupyter-widgets/controls",
          "model_module_version": "1.5.0",
          "model_name": "HBoxModel",
          "state": {
            "_dom_classes": [],
            "_model_module": "@jupyter-widgets/controls",
            "_model_module_version": "1.5.0",
            "_model_name": "HBoxModel",
            "_view_count": null,
            "_view_module": "@jupyter-widgets/controls",
            "_view_module_version": "1.5.0",
            "_view_name": "HBoxView",
            "box_style": "",
            "children": [
              "IPY_MODEL_d9199a33c3e848c4959aa1369eb95532",
              "IPY_MODEL_0bdabd307b4a46a99ea207a356fbf98b",
              "IPY_MODEL_47d60d3f8cc647b2a45457281eee179b"
            ],
            "layout": "IPY_MODEL_c7329898f313425daa27e224e26c2dc8"
          }
        },
        "c65eff4e5d67404197e6c1a60cf9a86e": {
          "model_module": "@jupyter-widgets/controls",
          "model_module_version": "1.5.0",
          "model_name": "ProgressStyleModel",
          "state": {
            "_model_module": "@jupyter-widgets/controls",
            "_model_module_version": "1.5.0",
            "_model_name": "ProgressStyleModel",
            "_view_count": null,
            "_view_module": "@jupyter-widgets/base",
            "_view_module_version": "1.2.0",
            "_view_name": "StyleView",
            "bar_color": null,
            "description_width": ""
          }
        },
        "c7329898f313425daa27e224e26c2dc8": {
          "model_module": "@jupyter-widgets/base",
          "model_module_version": "1.2.0",
          "model_name": "LayoutModel",
          "state": {
            "_model_module": "@jupyter-widgets/base",
            "_model_module_version": "1.2.0",
            "_model_name": "LayoutModel",
            "_view_count": null,
            "_view_module": "@jupyter-widgets/base",
            "_view_module_version": "1.2.0",
            "_view_name": "LayoutView",
            "align_content": null,
            "align_items": null,
            "align_self": null,
            "border": null,
            "bottom": null,
            "display": null,
            "flex": null,
            "flex_flow": null,
            "grid_area": null,
            "grid_auto_columns": null,
            "grid_auto_flow": null,
            "grid_auto_rows": null,
            "grid_column": null,
            "grid_gap": null,
            "grid_row": null,
            "grid_template_areas": null,
            "grid_template_columns": null,
            "grid_template_rows": null,
            "height": null,
            "justify_content": null,
            "justify_items": null,
            "left": null,
            "margin": null,
            "max_height": null,
            "max_width": null,
            "min_height": null,
            "min_width": null,
            "object_fit": null,
            "object_position": null,
            "order": null,
            "overflow": null,
            "overflow_x": null,
            "overflow_y": null,
            "padding": null,
            "right": null,
            "top": null,
            "visibility": null,
            "width": null
          }
        },
        "d9199a33c3e848c4959aa1369eb95532": {
          "model_module": "@jupyter-widgets/controls",
          "model_module_version": "1.5.0",
          "model_name": "HTMLModel",
          "state": {
            "_dom_classes": [],
            "_model_module": "@jupyter-widgets/controls",
            "_model_module_version": "1.5.0",
            "_model_name": "HTMLModel",
            "_view_count": null,
            "_view_module": "@jupyter-widgets/controls",
            "_view_module_version": "1.5.0",
            "_view_name": "HTMLView",
            "description": "",
            "description_tooltip": null,
            "layout": "IPY_MODEL_e7b37d974766464994a6dda7255e7f20",
            "placeholder": "​",
            "style": "IPY_MODEL_184bf42dde094f83a6d31accce06d253",
            "value": "Dl Completed...: 100%"
          }
        },
        "e7b37d974766464994a6dda7255e7f20": {
          "model_module": "@jupyter-widgets/base",
          "model_module_version": "1.2.0",
          "model_name": "LayoutModel",
          "state": {
            "_model_module": "@jupyter-widgets/base",
            "_model_module_version": "1.2.0",
            "_model_name": "LayoutModel",
            "_view_count": null,
            "_view_module": "@jupyter-widgets/base",
            "_view_module_version": "1.2.0",
            "_view_name": "LayoutView",
            "align_content": null,
            "align_items": null,
            "align_self": null,
            "border": null,
            "bottom": null,
            "display": null,
            "flex": null,
            "flex_flow": null,
            "grid_area": null,
            "grid_auto_columns": null,
            "grid_auto_flow": null,
            "grid_auto_rows": null,
            "grid_column": null,
            "grid_gap": null,
            "grid_row": null,
            "grid_template_areas": null,
            "grid_template_columns": null,
            "grid_template_rows": null,
            "height": null,
            "justify_content": null,
            "justify_items": null,
            "left": null,
            "margin": null,
            "max_height": null,
            "max_width": null,
            "min_height": null,
            "min_width": null,
            "object_fit": null,
            "object_position": null,
            "order": null,
            "overflow": null,
            "overflow_x": null,
            "overflow_y": null,
            "padding": null,
            "right": null,
            "top": null,
            "visibility": null,
            "width": null
          }
        }
      }
    }
  },
  "nbformat": 4,
  "nbformat_minor": 0
}
