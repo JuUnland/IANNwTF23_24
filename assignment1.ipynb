{
  "nbformat": 4,
  "nbformat_minor": 0,
  "metadata": {
    "colab": {
      "provenance": []
    },
    "kernelspec": {
      "name": "python3",
      "display_name": "Python 3"
    },
    "language_info": {
      "name": "python"
    }
  },
  "cells": [
    {
      "cell_type": "code",
      "source": [
        "from sklearn.datasets import load_digits\n",
        "from sklearn.model_selection import train_test_split\n",
        "from matplotlib import pyplot as plt\n",
        "import numpy as np\n",
        "import math"
      ],
      "metadata": {
        "id": "76WTYlPzuLzo"
      },
      "execution_count": 3,
      "outputs": []
    },
    {
      "cell_type": "code",
      "source": [
        "digits = load_digits()\n",
        "minibatchsize = 5\n",
        "target_size = len(digits.target_names)\n",
        "print(target_size)\n",
        "\n",
        "X = np.array(digits.data)\n",
        "y = np.array(digits.target)\n",
        "\n",
        "# scaling the numbers\n",
        "X = (X - np.min(X))/(np.max(X)-np.min(X))\n",
        "\n",
        "# float 64 shoudl be fine aswell\n",
        "\n",
        "print(X.dtype)\n",
        "\n",
        "# encoding into one hot vectors\n",
        "y = np.eye(target_size)[y]\n",
        "\n",
        "# helper function to confirm correct splitting\n",
        "def show_img(digits):\n",
        "  plt.gray()\n",
        "  plt.matshow(digits.reshape(8, 8))\n",
        "  plt.show()\n",
        "\n",
        "# yield X, y randomly\n",
        "def shuffle_generator(X, y):\n",
        "  shuffler = np.random.permutation(len(X))\n",
        "  X = X[shuffler]\n",
        "  y = y[shuffler]\n",
        "  idx = 0\n",
        "  while idx < len(X):\n",
        "    yield(X[idx], y[idx])\n",
        "    idx += 1"
      ],
      "metadata": {
        "colab": {
          "base_uri": "https://localhost:8080/"
        },
        "id": "I2y5RTM9uL-3",
        "outputId": "b057aa5f-cfdd-4df9-8acf-4db97de3fe7a"
      },
      "execution_count": 51,
      "outputs": [
        {
          "output_type": "stream",
          "name": "stdout",
          "text": [
            "10\n",
            "float64\n"
          ]
        }
      ]
    },
    {
      "cell_type": "code",
      "source": [
        "# ACTIVATION FUNCTIONS\n",
        "def sigmoid(input):\n",
        "  return 1/(1 + np.exp(-input))\n",
        "\n",
        "def sigmoid_backwards(input):\n",
        "  return sigmoid(input) * (1 - sigmoid(input))\n",
        "\n",
        "def softmax(input):\n",
        "  sum = np.sum(np.exp(input))\n",
        "  out = np.exp(input) / sum\n",
        "  return out\n",
        "\n",
        "\n",
        "# LOSS FUNCTION\n",
        "def cross_entropy(predictions, targets):\n",
        "  return -np.sum(targets * np.log(predictions + 10**-100))\n",
        "\n",
        "def cross_entropy_backwards(predictions, targets):\n",
        "  return predictions - targets\n"
      ],
      "metadata": {
        "id": "VCiwxUPv8PHk"
      },
      "execution_count": 52,
      "outputs": []
    },
    {
      "cell_type": "code",
      "source": [
        "from typing import List\n",
        "\n",
        "class MLP_layer():\n",
        "  def __init__(self,units, input_size, activation_function, activation_function_backwards = 0):\n",
        "    self.activation_function = activation_function\n",
        "    self.activation_function_backwards = activation_function_backwards\n",
        "    self.units = units\n",
        "    self.input_size = input_size\n",
        "\n",
        "    self.input = np.zeros(input_size)\n",
        "    self.preactivation = np.zeros(units)\n",
        "    self.activation = np.zeros(units)\n",
        "    self.weights = np.random.normal(0, 0.2, size=(units, input_size))\n",
        "    self.bias = np.zeros(units)\n",
        "\n",
        "  def forward(self, input : np.ndarray):\n",
        "    self.input = input\n",
        "    self.preactivation = (self.weights @ input) + self.bias\n",
        "    self.activation = self.activation_function(self.preactivation)\n",
        "    return self.activation\n",
        "\n",
        "  def backwards(self, error_signal):\n",
        "    error_signal = error_signal * self.activation_function_backwards(self.preactivation) # dL/a * da/dpre\n",
        "    dLdW = np.outer(error_signal, self.input)       # to adjust the weights                dL/dpre * dpre/dW\n",
        "    dLdinput = error_signal @ self.weights # error signal for the next layer               dL/dpre * dpre/dinput\n",
        "    return (dLdW, dLdinput)\n",
        "\n",
        "  def backwards_output(self, targets):\n",
        "    error_signal = cross_entropy_backwards(predictions=self.preactivation, targets=targets) #dL/dpre\n",
        "\n",
        "    dLdW = np.outer(error_signal, self.input)       # to adjust the weights                          dL/dpre * dpre/dW\n",
        "    dLdinput = self.weights.T @ error_signal # error signal for the next layer                dL/dpre * dpre/dinput\n",
        "    return (dLdW, dLdinput)\n",
        "\n",
        "\n"
      ],
      "metadata": {
        "id": "C5p_dRKHBxuM"
      },
      "execution_count": 53,
      "outputs": []
    },
    {
      "cell_type": "code",
      "source": [
        "class ANN():\n",
        "  def __init__(self):\n",
        "    self.layer1 = MLP_layer(32, 64, sigmoid, activation_function_backwards=sigmoid_backwards)\n",
        "    self.layer2 = MLP_layer(16, 32, sigmoid, activation_function_backwards=sigmoid_backwards)\n",
        "    self.layer3 = MLP_layer(10, 16, softmax)\n",
        "    self.layers = [self.layer1, self.layer2, self.layer3]\n",
        "\n",
        "    self.learning_rate = 0.1\n",
        "\n",
        "  def forward(self, input):\n",
        "    prediction = input\n",
        "    for layer in self.layers:\n",
        "      prediction = layer.forward(prediction)\n",
        "    return prediction\n",
        "\n",
        "\n",
        "  def backwards(self, targets):\n",
        "    (dLdW, error_signal) = self.layers[-1].backwards_output(targets)\n",
        "    self.layers[-1].weights -= self.learning_rate * dLdW\n",
        "    for layer in reversed(self.layers[:-1]):\n",
        "      (dLdW, error_signal) = layer.backwards(error_signal)\n",
        "      layer.weights -= self.learning_rate * dLdW\n",
        "\n"
      ],
      "metadata": {
        "id": "l2-oofTuKco5"
      },
      "execution_count": 54,
      "outputs": []
    },
    {
      "cell_type": "code",
      "source": [
        "ann = ANN()\n",
        "\n",
        "def training(ANN, epochs=60):\n",
        "  loss = []\n",
        "  acc = []\n",
        "  for i in range(epochs):\n",
        "    # training and loss\n",
        "    gen = shuffle_generator(X, y)\n",
        "    avg_loss = []\n",
        "    for (X_temp, y_temp) in gen:\n",
        "      prediction = ANN.forward(X_temp)\n",
        "      current_loss = cross_entropy(prediction, y_temp)\n",
        "      avg_loss.append(current_loss)\n",
        "      ANN.backwards(y_temp)\n",
        "    loss.append(sum(avg_loss) / len(avg_loss))\n",
        "\n",
        "    # accuracy\n",
        "    gen = shuffle_generator(X, y)\n",
        "    correct = 0\n",
        "    total = 0\n",
        "    for (X_temp, y_temp) in gen:\n",
        "      total += 1\n",
        "      prediction = ann.forward(X_temp)\n",
        "      if np.argmax(prediction) == np.argmax(y_temp):\n",
        "        correct += 1\n",
        "    acc.append(correct/total)\n",
        "  return ann, loss, acc\n",
        "\n",
        "def plot_loss_epoch(avg_loss, accuracy):\n",
        "  plt.plot([i for i in range(len(avg_loss))], avg_loss, label=\"avg_loss\")\n",
        "  plt.plot([i for i in range(len(avg_loss))], accuracy, label=\"accuracy\")\n",
        "  plt.xlabel(\"epoch\")\n",
        "  plt.ylabel(\"numeric value for avg_loss and accuracy\")\n",
        "  plt.legend()"
      ],
      "metadata": {
        "id": "fOXyibKxlILm"
      },
      "execution_count": 55,
      "outputs": []
    },
    {
      "cell_type": "code",
      "source": [
        "ann, avg_loss, accuracy = training(ann)"
      ],
      "metadata": {
        "id": "UN_XXsYH2gix"
      },
      "execution_count": 56,
      "outputs": []
    },
    {
      "cell_type": "code",
      "source": [
        "print(avg_loss)\n",
        "print(accuracy)\n",
        "plot_loss_epoch(avg_loss, accuracy)"
      ],
      "metadata": {
        "colab": {
          "base_uri": "https://localhost:8080/",
          "height": 504
        },
        "id": "XyFmMHLo5qby",
        "outputId": "4b00aa9b-0020-4c81-ae49-b7456ac5e837"
      },
      "execution_count": 57,
      "outputs": [
        {
          "output_type": "stream",
          "name": "stdout",
          "text": [
            "[2.2014673612140507, 1.9718779635913872, 1.830161935140995, 1.7182212207093521, 1.645120709960044, 1.6138978717356127, 1.5972852331955283, 1.583247522736357, 1.572979860494333, 1.56435213852967, 1.5608860047057629, 1.5557952509169881, 1.5472566609791047, 1.5452535552581719, 1.5415098435419219, 1.538073544080282, 1.5343739583999605, 1.5314651724187573, 1.5291813359459911, 1.525491785231736, 1.5232324555717234, 1.5213393831682671, 1.51939353526649, 1.5167473798667883, 1.5148592578323057, 1.5136072966440797, 1.5122539942480107, 1.5087585452610264, 1.5082584904873932, 1.5075300207448126, 1.5046673396953112, 1.5043385543545964, 1.5029367750799951, 1.502399990923262, 1.5009158761095986, 1.4995403331779806, 1.4990246944567798, 1.497648790236017, 1.4969203003963985, 1.495842518624165, 1.4943625754614558, 1.4948937848315218, 1.493160809995315, 1.4933040325073563, 1.491814469263593, 1.4910350594082193, 1.491213047874364, 1.489760915718083, 1.4886263705953773, 1.4885837507745823, 1.4891649822383557, 1.4872220795389135, 1.4874416577375096, 1.4867748323854237, 1.486205104176196, 1.485879996560601, 1.4847849583215253, 1.4848358541053215, 1.4843991450556668, 1.4841545796574402]\n",
            "[0.6466332776850306, 0.8697829716193656, 0.9343350027824151, 0.9426822481914302, 0.9526989426822482, 0.9577072899276572, 0.9549248747913188, 0.9744017807456873, 0.9660545353366722, 0.9782971619365609, 0.9794101279910963, 0.9777406789092933, 0.9821925431274346, 0.9782971619365609, 0.9821925431274346, 0.9782971619365609, 0.9821925431274346, 0.9816360601001669, 0.986644407345576, 0.9855314412910406, 0.9877573734001113, 0.9849749582637729, 0.9844184752365053, 0.9855314412910406, 0.9872008903728436, 0.9860879243183083, 0.9894268224819143, 0.9894268224819143, 0.9855314412910406, 0.9872008903728436, 0.989983305509182, 0.9910962715637173, 0.989983305509182, 0.989983305509182, 0.991652754590985, 0.989983305509182, 0.9905397885364496, 0.9888703394546466, 0.9927657206455203, 0.991652754590985, 0.9910962715637173, 0.993322203672788, 0.9938786867000556, 0.993322203672788, 0.994991652754591, 0.9938786867000556, 0.9938786867000556, 0.994991652754591, 0.9938786867000556, 0.9927657206455203, 0.994991652754591, 0.994991652754591, 0.994991652754591, 0.9944351697273233, 0.9955481357818586, 0.9944351697273233, 0.994991652754591, 0.9944351697273233, 0.9955481357818586, 0.994991652754591]\n"
          ]
        },
        {
          "output_type": "display_data",
          "data": {
            "text/plain": [
              "<Figure size 640x480 with 1 Axes>"
            ],
            "image/png": "[encoded data removed]"
          },
          "metadata": {}
        }
      ]
    },
    {
      "cell_type": "code",
      "source": [],
      "metadata": {
        "colab": {
          "base_uri": "https://localhost:8080/"
        },
        "id": "eOBY2G2f_558",
        "outputId": "07b407ae-fc52-40c6-d48b-8f4a8ba63608"
      },
      "execution_count": 58,
      "outputs": [
        {
          "output_type": "stream",
          "name": "stdout",
          "text": [
            "[0.6466332776850306, 0.8697829716193656, 0.9343350027824151, 0.9426822481914302, 0.9526989426822482, 0.9577072899276572, 0.9549248747913188, 0.9744017807456873, 0.9660545353366722, 0.9782971619365609, 0.9794101279910963, 0.9777406789092933, 0.9821925431274346, 0.9782971619365609, 0.9821925431274346, 0.9782971619365609, 0.9821925431274346, 0.9816360601001669, 0.986644407345576, 0.9855314412910406, 0.9877573734001113, 0.9849749582637729, 0.9844184752365053, 0.9855314412910406, 0.9872008903728436, 0.9860879243183083, 0.9894268224819143, 0.9894268224819143, 0.9855314412910406, 0.9872008903728436, 0.989983305509182, 0.9910962715637173, 0.989983305509182, 0.989983305509182, 0.991652754590985, 0.989983305509182, 0.9905397885364496, 0.9888703394546466, 0.9927657206455203, 0.991652754590985, 0.9910962715637173, 0.993322203672788, 0.9938786867000556, 0.993322203672788, 0.994991652754591, 0.9938786867000556, 0.9938786867000556, 0.994991652754591, 0.9938786867000556, 0.9927657206455203, 0.994991652754591, 0.994991652754591, 0.994991652754591, 0.9944351697273233, 0.9955481357818586, 0.9944351697273233, 0.994991652754591, 0.9944351697273233, 0.9955481357818586, 0.994991652754591]\n"
          ]
        }
      ]
    },
    {
      "cell_type": "code",
      "source": [],
      "metadata": {
        "id": "hHoYeb1RSPNW"
      },
      "execution_count": 58,
      "outputs": []
    }
  ]
}